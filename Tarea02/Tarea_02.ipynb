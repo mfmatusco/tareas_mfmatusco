{
  "nbformat": 4,
  "nbformat_minor": 0,
  "metadata": {
    "colab": {
      "provenance": []
    },
    "kernelspec": {
      "name": "python3",
      "display_name": "Python 3"
    },
    "language_info": {
      "name": "python"
    }
  },
  "cells": [
    {
      "cell_type": "markdown",
      "source": [
        "#Tarea 02:\n",
        "####Se nos encarga ejecutar la resolición de preguntas estipuladas en el encargo, con el objetivo de aprender y practicar la generación de programas de variables, gestión de datos y más con el fin de usarlas para resolver problema"
      ],
      "metadata": {
        "id": "qs2TR13X6OYR"
      }
    },
    {
      "cell_type": "markdown",
      "source": [
        "###Pregunta 01:"
      ],
      "metadata": {
        "id": "-d1Potah592H"
      }
    },
    {
      "cell_type": "code",
      "source": [
        "\n",
        "#Hacer un programa que imprima los números del -100 al 200.\n",
        "\n",
        "numero_inicial=-100\n",
        "numero_final=201\n",
        "\n",
        "lista=range(numero_inicial,numero_final)\n",
        "for i in lista:\n",
        "  print(i)\n"
      ],
      "metadata": {
        "colab": {
          "base_uri": "https://localhost:8080/"
        },
        "collapsed": true,
        "id": "nW27roWo1fSS",
        "outputId": "7a191929-d5d3-43e9-ff91-370f8b91d08f"
      },
      "execution_count": null,
      "outputs": [
        {
          "output_type": "stream",
          "name": "stdout",
          "text": [
            "-100\n",
            "-99\n",
            "-98\n",
            "-97\n",
            "-96\n",
            "-95\n",
            "-94\n",
            "-93\n",
            "-92\n",
            "-91\n",
            "-90\n",
            "-89\n",
            "-88\n",
            "-87\n",
            "-86\n",
            "-85\n",
            "-84\n",
            "-83\n",
            "-82\n",
            "-81\n",
            "-80\n",
            "-79\n",
            "-78\n",
            "-77\n",
            "-76\n",
            "-75\n",
            "-74\n",
            "-73\n",
            "-72\n",
            "-71\n",
            "-70\n",
            "-69\n",
            "-68\n",
            "-67\n",
            "-66\n",
            "-65\n",
            "-64\n",
            "-63\n",
            "-62\n",
            "-61\n",
            "-60\n",
            "-59\n",
            "-58\n",
            "-57\n",
            "-56\n",
            "-55\n",
            "-54\n",
            "-53\n",
            "-52\n",
            "-51\n",
            "-50\n",
            "-49\n",
            "-48\n",
            "-47\n",
            "-46\n",
            "-45\n",
            "-44\n",
            "-43\n",
            "-42\n",
            "-41\n",
            "-40\n",
            "-39\n",
            "-38\n",
            "-37\n",
            "-36\n",
            "-35\n",
            "-34\n",
            "-33\n",
            "-32\n",
            "-31\n",
            "-30\n",
            "-29\n",
            "-28\n",
            "-27\n",
            "-26\n",
            "-25\n",
            "-24\n",
            "-23\n",
            "-22\n",
            "-21\n",
            "-20\n",
            "-19\n",
            "-18\n",
            "-17\n",
            "-16\n",
            "-15\n",
            "-14\n",
            "-13\n",
            "-12\n",
            "-11\n",
            "-10\n",
            "-9\n",
            "-8\n",
            "-7\n",
            "-6\n",
            "-5\n",
            "-4\n",
            "-3\n",
            "-2\n",
            "-1\n",
            "0\n",
            "1\n",
            "2\n",
            "3\n",
            "4\n",
            "5\n",
            "6\n",
            "7\n",
            "8\n",
            "9\n",
            "10\n",
            "11\n",
            "12\n",
            "13\n",
            "14\n",
            "15\n",
            "16\n",
            "17\n",
            "18\n",
            "19\n",
            "20\n",
            "21\n",
            "22\n",
            "23\n",
            "24\n",
            "25\n",
            "26\n",
            "27\n",
            "28\n",
            "29\n",
            "30\n",
            "31\n",
            "32\n",
            "33\n",
            "34\n",
            "35\n",
            "36\n",
            "37\n",
            "38\n",
            "39\n",
            "40\n",
            "41\n",
            "42\n",
            "43\n",
            "44\n",
            "45\n",
            "46\n",
            "47\n",
            "48\n",
            "49\n",
            "50\n",
            "51\n",
            "52\n",
            "53\n",
            "54\n",
            "55\n",
            "56\n",
            "57\n",
            "58\n",
            "59\n",
            "60\n",
            "61\n",
            "62\n",
            "63\n",
            "64\n",
            "65\n",
            "66\n",
            "67\n",
            "68\n",
            "69\n",
            "70\n",
            "71\n",
            "72\n",
            "73\n",
            "74\n",
            "75\n",
            "76\n",
            "77\n",
            "78\n",
            "79\n",
            "80\n",
            "81\n",
            "82\n",
            "83\n",
            "84\n",
            "85\n",
            "86\n",
            "87\n",
            "88\n",
            "89\n",
            "90\n",
            "91\n",
            "92\n",
            "93\n",
            "94\n",
            "95\n",
            "96\n",
            "97\n",
            "98\n",
            "99\n",
            "100\n",
            "101\n",
            "102\n",
            "103\n",
            "104\n",
            "105\n",
            "106\n",
            "107\n",
            "108\n",
            "109\n",
            "110\n",
            "111\n",
            "112\n",
            "113\n",
            "114\n",
            "115\n",
            "116\n",
            "117\n",
            "118\n",
            "119\n",
            "120\n",
            "121\n",
            "122\n",
            "123\n",
            "124\n",
            "125\n",
            "126\n",
            "127\n",
            "128\n",
            "129\n",
            "130\n",
            "131\n",
            "132\n",
            "133\n",
            "134\n",
            "135\n",
            "136\n",
            "137\n",
            "138\n",
            "139\n",
            "140\n",
            "141\n",
            "142\n",
            "143\n",
            "144\n",
            "145\n",
            "146\n",
            "147\n",
            "148\n",
            "149\n",
            "150\n",
            "151\n",
            "152\n",
            "153\n",
            "154\n",
            "155\n",
            "156\n",
            "157\n",
            "158\n",
            "159\n",
            "160\n",
            "161\n",
            "162\n",
            "163\n",
            "164\n",
            "165\n",
            "166\n",
            "167\n",
            "168\n",
            "169\n",
            "170\n",
            "171\n",
            "172\n",
            "173\n",
            "174\n",
            "175\n",
            "176\n",
            "177\n",
            "178\n",
            "179\n",
            "180\n",
            "181\n",
            "182\n",
            "183\n",
            "184\n",
            "185\n",
            "186\n",
            "187\n",
            "188\n",
            "189\n",
            "190\n",
            "191\n",
            "192\n",
            "193\n",
            "194\n",
            "195\n",
            "196\n",
            "197\n",
            "198\n",
            "199\n",
            "200\n"
          ]
        }
      ]
    },
    {
      "cell_type": "markdown",
      "source": [
        "Comentario: El codigo esta basado en el mostrado en clase, por lo que la replicación no fue compleja."
      ],
      "metadata": {
        "id": "eAcG_BP1WBPO"
      }
    },
    {
      "cell_type": "markdown",
      "source": [
        "###Pregunta 02:"
      ],
      "metadata": {
        "id": "a5hgHqG46CKl"
      }
    },
    {
      "cell_type": "code",
      "source": [
        "\n",
        "#Hacer un programa que imprima los números del -100 al 200 que sean divisibles entre 6 (con resto 0)\n",
        "\n",
        "numero_inicial=-100\n",
        "numero_final=201\n",
        "\n",
        "lista=range(numero_inicial,numero_final)\n",
        "for i in lista:\n",
        "  if i%6==0:\n",
        "    print(i)"
      ],
      "metadata": {
        "colab": {
          "base_uri": "https://localhost:8080/"
        },
        "id": "aM7nJ6tM2wDm",
        "outputId": "0c8ddec8-ac01-4b1b-c00b-f136f61eafe4",
        "collapsed": true
      },
      "execution_count": null,
      "outputs": [
        {
          "output_type": "stream",
          "name": "stdout",
          "text": [
            "-96\n",
            "-90\n",
            "-84\n",
            "-78\n",
            "-72\n",
            "-66\n",
            "-60\n",
            "-54\n",
            "-48\n",
            "-42\n",
            "-36\n",
            "-30\n",
            "-24\n",
            "-18\n",
            "-12\n",
            "-6\n",
            "0\n",
            "6\n",
            "12\n",
            "18\n",
            "24\n",
            "30\n",
            "36\n",
            "42\n",
            "48\n",
            "54\n",
            "60\n",
            "66\n",
            "72\n",
            "78\n",
            "84\n",
            "90\n",
            "96\n",
            "102\n",
            "108\n",
            "114\n",
            "120\n",
            "126\n",
            "132\n",
            "138\n",
            "144\n",
            "150\n",
            "156\n",
            "162\n",
            "168\n",
            "174\n",
            "180\n",
            "186\n",
            "192\n",
            "198\n"
          ]
        }
      ]
    },
    {
      "cell_type": "markdown",
      "source": [
        "Comentario: Este codigo tambien esta basado en el mostrado en clase, por lo que la aplicación tampoco fue compleja."
      ],
      "metadata": {
        "id": "GQOu5A9JWMsR"
      }
    },
    {
      "cell_type": "markdown",
      "source": [
        "###Pregunta 03:"
      ],
      "metadata": {
        "id": "fK-OfuqR6j_N"
      }
    },
    {
      "cell_type": "code",
      "source": [
        "# Pseudocódigo, Sumador y comparador de dos números\n",
        "\n",
        "# inicia el problema\n",
        "numero1 = int(input(\"selecciona un número:\"))\n",
        "numero2 = int(input(\"selecciona otro número:\"))\n",
        "suma = numero1 + numero2\n",
        "\n",
        "if suma < 200:\n",
        "  resultado = 'es menor a 200'\n",
        "\n",
        "elif 200 <= suma < 250:\n",
        "  resultado = 'es mayor o igual a 200 y menor que 250'\n",
        "\n",
        "elif suma == 250:\n",
        "  resultado = 'es igual a 250'\n",
        "\n",
        "else:\n",
        "  resultado = 'es mayor a 250'\n",
        "\n",
        "\n",
        "print(f\"la suma es {suma}\")\n",
        "print(f\"por lo que su valor {resultado}\")\n",
        "\n",
        "#Fin del problema"
      ],
      "metadata": {
        "colab": {
          "base_uri": "https://localhost:8080/"
        },
        "id": "PX_D0Ax_AQnK",
        "outputId": "7170d8b3-d6db-425a-fcbb-cdf081b68cd6"
      },
      "execution_count": 9,
      "outputs": [
        {
          "output_type": "stream",
          "name": "stdout",
          "text": [
            "selecciona un número:100\n",
            "selecciona otro número:200\n",
            "la suma es 300\n",
            "por lo que su valor es mayor a 250\n"
          ]
        }
      ]
    },
    {
      "cell_type": "markdown",
      "source": [
        "Comentario: El codigo considera la aplicacion de interración con el lector para ejecutar variables de resoluciones. Entender el formato para generar esa interacción fue la parte más compleja."
      ],
      "metadata": {
        "id": "sKr9PCfzWV3x"
      }
    },
    {
      "cell_type": "markdown",
      "source": [
        "###Pregunta 04:"
      ],
      "metadata": {
        "id": "b_hIL6OVDgB1"
      }
    },
    {
      "cell_type": "code",
      "source": [
        "# Pseudocódigo, Calculador de perfil\n",
        "\n",
        "#inicia el problema\n",
        "edad_legal >= 18\n",
        "\n",
        "bienvenido = print(\"Bienvenido a nuestra plataforma de streaming de musica\")\n",
        "genero_musica = input(\"¿Que genero musical te gusta?\")\n",
        "nombre = input(\"¿Cuál es tu nombre?: \")\n",
        "edad = int(input(\"¿Cuál es tu edad?: \"))\n",
        "\n",
        "\n",
        "if genero_musica.lower() == \"urbana\" and edad >= edad_legal:\n",
        "  print(\"¡You're feeling the vibe!\")\n",
        "  print(\"Creación de cuenta exitosa, aquí tienes una lista de reproducción de tu artista favorito.\")\n",
        "\n",
        "elif genero_musica.lower() != \"urbana\" and edad >= edad_legal:\n",
        "  print(\"lamentablemente no tenemos otro genero en nuestro catalogo\")\n",
        "  print(\"¿quieres crear una cuenta de todas formas?\")\n",
        "\n",
        "elif genero_musica.lower() == \"urbana\" and edad < edad_legal:\n",
        "  print(\"Gracias por indicarnos tu gusto musical, nuestro catálogo parece ideal para ti\")\n",
        "  print(\"al ser menor de edad, lamentablemente no podemos crearte una cuenta\")\n",
        "\n",
        "elif genero_musica.lower() != \"urbana\" and edad < edad_legal:\n",
        "  print(\"lamentablemente no tenemos ese genero en nuestro catalogo\")\n",
        "  print(\"al ser menor de edad, tampoco podemos crearte una cuenta\")\n",
        "\n",
        "\n",
        "# Fin del problema"
      ],
      "metadata": {
        "colab": {
          "base_uri": "https://localhost:8080/"
        },
        "id": "Cyr9qFaHDRJJ",
        "outputId": "4a659e0e-86e5-4735-81d5-a5ab4cda65c0"
      },
      "execution_count": null,
      "outputs": [
        {
          "output_type": "stream",
          "name": "stdout",
          "text": [
            "Bienvenido a nuestra plataforma de streaming de musica\n",
            "¿Que genero musical te gusta?Urbana\n",
            "¿Cuál es tu nombre?: example\n",
            "¿Cuál es tu edad?: 19\n",
            "¡You're feeling the vibe!\n",
            "Creación de cuenta exitosa, aquí tienes una lista de reproducción de tu artista favorito.\n"
          ]
        }
      ]
    },
    {
      "cell_type": "markdown",
      "source": [
        "comentario: Respecto a este problema, siguiedo la linea de la pregunta anterior, fue compleja generar la interaccion pues la intencion era que cualquier otro genero al urbano llevara a la respuesta generada. Aprender sobre el uso de ***.lower*** y **!=** fue el aspecto más impresionante y que me tomo más tiempo encontrar."
      ],
      "metadata": {
        "id": "vUNhkpxgYFBG"
      }
    }
  ]
}